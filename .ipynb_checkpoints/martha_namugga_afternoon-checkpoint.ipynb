{
 "cells": [
  {
   "cell_type": "code",
   "execution_count": 2,
   "id": "8bd2fb79",
   "metadata": {},
   "outputs": [
    {
     "name": "stdout",
     "output_type": "stream",
     "text": [
      "1.4.4\n"
     ]
    }
   ],
   "source": [
    "import pandas as pd\n",
    "print(pd.__version__)"
   ]
  },
  {
   "cell_type": "code",
   "execution_count": 3,
   "id": "44737fee",
   "metadata": {},
   "outputs": [
    {
     "name": "stdout",
     "output_type": "stream",
     "text": [
      "Empty DataFrame\n",
      "Columns: []\n",
      "Index: []\n"
     ]
    }
   ],
   "source": [
    "df = pd.DataFrame()\n",
    "print(df)"
   ]
  },
  {
   "cell_type": "code",
   "execution_count": 8,
   "id": "0d631242",
   "metadata": {},
   "outputs": [
    {
     "name": "stdout",
     "output_type": "stream",
     "text": [
      "     car  year of make\n",
      "0  Tesla          2004\n",
      "1   Audi          2007\n"
     ]
    }
   ],
   "source": [
    "#creating a dictionary\n",
    "mydataset = {'car': [\"Tesla\", \"Audi\", \"BMW\"],\n",
    "             'year of make': [2004, 2007, 2020]\n",
    "            }\n",
    "#accessing the dictionary\n",
    "myvar = pd.DataFrame(mydataset)\n",
    "print(myvar)"
   ]
  },
  {
   "cell_type": "code",
   "execution_count": 9,
   "id": "a5fee8dd",
   "metadata": {},
   "outputs": [
    {
     "name": "stdout",
     "output_type": "stream",
     "text": [
      "       0\n",
      "0    red\n",
      "1  green\n",
      "2   blue\n"
     ]
    }
   ],
   "source": [
    "#creating a tuple\n",
    "colours = (\"red\",\"green\",\"blue\")\n",
    "cl = pd.DataFrame(colours)\n",
    "print(cl)"
   ]
  },
  {
   "cell_type": "code",
   "execution_count": 10,
   "id": "f514cdd9",
   "metadata": {
    "scrolled": true
   },
   "outputs": [
    {
     "name": "stdout",
     "output_type": "stream",
     "text": [
      "0         1\n",
      "1         3\n",
      "2    Martha\n",
      "3        44\n",
      "4    Hellen\n",
      "dtype: object\n"
     ]
    }
   ],
   "source": [
    "#creating a list using series\n",
    "#series are single dimension array\n",
    "#only columns\n",
    "df = pd.Series([1,3,\"Martha\", 44, \"Hellen\"])\n",
    "print(df)"
   ]
  },
  {
   "cell_type": "code",
   "execution_count": 11,
   "id": "de1eaef6",
   "metadata": {},
   "outputs": [
    {
     "name": "stdout",
     "output_type": "stream",
     "text": [
      "        0\n",
      "0       1\n",
      "1       3\n",
      "2  Martha\n",
      "3      44\n",
      "4  Hellen\n"
     ]
    }
   ],
   "source": [
    "#creating a list\n",
    "df = pd.DataFrame([1,3,\"Martha\", 44, \"Hellen\"])\n",
    "print(df)"
   ]
  },
  {
   "cell_type": "code",
   "execution_count": 28,
   "id": "b5225246",
   "metadata": {},
   "outputs": [
    {
     "name": "stdout",
     "output_type": "stream",
     "text": [
      "day        [Monday, Tuesday, Wednesday, Thursday, Friday]\n",
      "date    [01/01/2000, 02/01/2000, 03/01/2000, 04/01/200...\n",
      "dtype: object\n"
     ]
    }
   ],
   "source": [
    "#creating a dictionary showing dates and days\n",
    "#using tail()and head() to print last and first resp\n",
    "mydic = {'day': [\"Monday\", \"Tuesday\", \"Wednesday\", \"Thursday\",\"Friday\"],\n",
    "             'date': [\"01/01/2000\",\"02/01/2000\", \"03/01/2000\",\"04/01/2000\",\"05/01/2000\"]\n",
    "            }\n",
    "#accessing the dictionary\n",
    "Dic = pd.Series(mydic)\n",
    "print(Dic)"
   ]
  },
  {
   "cell_type": "code",
   "execution_count": 30,
   "id": "3d4581a9",
   "metadata": {},
   "outputs": [
    {
     "name": "stdout",
     "output_type": "stream",
     "text": [
      "       day        date\n",
      "0   Monday  01/01/2000\n",
      "1  Tuesday  02/01/2000\n",
      "-------------\n",
      "       day        date\n",
      "0   Monday  01/01/2000\n",
      "1  Tuesday  02/01/2000\n"
     ]
    }
   ],
   "source": [
    "dic = pd.DataFrame(mydic)\n",
    "two = dic.head(n=2)\n",
    "print(two)\n",
    "#changing to series\n",
    "print(\"-------------\")\n",
    "series = two.squeeze()\n",
    "print(series)\n"
   ]
  },
  {
   "cell_type": "markdown",
   "id": "e31dc5e6",
   "metadata": {},
   "source": [
    "Shoes ={\n",
    "    \"brand\": \"Nick\",\n",
    "    \"color\": \"black\",\n",
    "    \"size\": 40\n",
    "}\n",
    "df1 = pd.Series(Shoes)\n",
    "print(df1)\n",
    "print(df1[\"brand\"])"
   ]
  },
  {
   "cell_type": "markdown",
   "id": "4ae96bf8",
   "metadata": {},
   "source": [
    "# Assignment for the t"
   ]
  }
 ],
 "metadata": {
  "kernelspec": {
   "display_name": "Python 3 (ipykernel)",
   "language": "python",
   "name": "python3"
  },
  "language_info": {
   "codemirror_mode": {
    "name": "ipython",
    "version": 3
   },
   "file_extension": ".py",
   "mimetype": "text/x-python",
   "name": "python",
   "nbconvert_exporter": "python",
   "pygments_lexer": "ipython3",
   "version": "3.9.13"
  }
 },
 "nbformat": 4,
 "nbformat_minor": 5
}
